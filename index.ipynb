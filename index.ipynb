{
 "cells": [
  {
   "cell_type": "markdown",
   "metadata": {},
   "source": [
    "# Health Survey Data Analysis\n",
    "\n",
    "Phillip Jerome Allen"
   ]
  },
  {
   "cell_type": "markdown",
   "metadata": {},
   "source": [
    "## Executive Summary\n",
    "\n",
    "In this project I will be cleaning data and performing inferential statistics on a subset of data collected by the CDC Behavioral Risk Factor Surveillance System (BRFSS) from 2020-2021 in the state of New York.\n",
    "\n",
    "Goals of the project:\n",
    "- Clean the data by removing unecessary columns and records.\n",
    "- Calculate the confidence interval for the PHYSHLTH mean\n",
    "- Describe the statistical differences between home owners and renters in regards to their physical health\n",
    "- Perform a t-Test\n",
    "- Describe the next steps"
   ]
  },
  {
   "cell_type": "markdown",
   "metadata": {},
   "source": [
    "## The Data\n",
    "\n",
    "Simply speaking, the CDC collected data asking those surveyed among other questions, the following:\n",
    "- The State they live in\n",
    "- The number of days they experience poor physical health in the past 30 days\n",
    "- And whether they rent or own the home they live in.\n",
    "    \n",
    "**Summary on the data used:**\n",
    "- The data presented below will include records collected from 2020-2021 and in the state of New York.\n",
    "- This project will focus on two columns of the available data, `PHYSHLTH` and `RENTHOM1`.\n",
    "    - `PHYSHLTH` represents the number of days the individual surveyed reported having experienced poor physical health in the last 30 days\n",
    "        - There are other values other than 0 - 30\n",
    "        - However, they are are codes for other answers given, so we will not be including records that show these values.\n",
    "    - `RENTHOM1` represents the whether the individual surveyed owns (1) or rents (2) their home\n",
    "        - Similar to `PHYSHLTH`, there are codified values other 1 or 2, and will have said records removed."
   ]
  },
  {
   "cell_type": "code",
   "execution_count": 1,
   "metadata": {},
   "outputs": [],
   "source": [
    "import matplotlib.pyplot as plt\n",
    "import seaborn as sns\n",
    "import numpy as np\n",
    "import pandas as pd\n",
    "import scipy.stats as stats\n",
    "import math\n",
    "import warnings\n",
    "warnings.filterwarnings('ignore')\n",
    "\n",
    "\n",
    "\n",
    "file_path = \"https://raw.githubusercontent.com/learn-co-curriculum/da-phase3-project-enterprise/main/brfss_ny.csv\"\n",
    "df = pd.read_csv(file_path)"
   ]
  },
  {
   "cell_type": "markdown",
   "metadata": {},
   "source": [
    "## Data Preparation\n",
    "\n",
    "TODO: write an explanation of the data preparation/cleaning steps you are about to perform using Markdown"
   ]
  },
  {
   "cell_type": "code",
   "execution_count": 2,
   "metadata": {},
   "outputs": [
    {
     "name": "stdout",
     "output_type": "stream",
     "text": [
      "False\n",
      "False\n"
     ]
    }
   ],
   "source": [
    "# Remove unecessary colums and keep only PHYSHLTH and RENTHOM1\n",
    "df = df[['PHYSHLTH','RENTHOM1']]\n",
    "\n",
    "# Check if there are any NaN values in PHYSHLTH or RENTHOM1\n",
    "print(df['PHYSHLTH'].isnull().values.any())\n",
    "print(df['RENTHOM1'].isnull().values.any())"
   ]
  },
  {
   "cell_type": "code",
   "execution_count": 3,
   "metadata": {},
   "outputs": [],
   "source": [
    "# TODO: write code to prepare the PHYSHLTH column\n",
    "\n",
    "# Converting all instances of 88 to 0\n",
    "df.PHYSHLTH = np.where(df['PHYSHLTH'] == 88, 0, df['PHYSHLTH'])\n",
    "\n",
    "# Dropping all records where PHYSHLTH is 77, 99\n",
    "df = df.drop(df[df.PHYSHLTH == 77].index)\n",
    "df = df.drop(df[df.PHYSHLTH == 99].index)\n",
    "df = df.dropna(subset=['PHYSHLTH'])"
   ]
  },
  {
   "cell_type": "code",
   "execution_count": 4,
   "metadata": {},
   "outputs": [],
   "source": [
    "# TODO: write code to prepare the RENTHOM1 column\n",
    "# Drop all records with values of RENTHOM1 other than 1 or 2.\n",
    "df = df.drop(df[df.RENTHOM1 > 2].index)"
   ]
  },
  {
   "cell_type": "markdown",
   "metadata": {},
   "source": [
    "## Confidence Interval for Mean of `PHYSHLTH`"
   ]
  },
  {
   "cell_type": "code",
   "execution_count": 5,
   "metadata": {},
   "outputs": [
    {
     "name": "stdout",
     "output_type": "stream",
     "text": [
      "3.064646020938575 7.581325164851767 13659\n",
      "\n",
      "The Sample Mean:\n",
      "3.064646020938575\n",
      "The Sample Standard Deviation:\n",
      "7.581325164851767\n"
     ]
    },
    {
     "data": {
      "text/plain": [
       "(2.9374942974789575, 3.1917977443981926)"
      ]
     },
     "execution_count": 5,
     "metadata": {},
     "output_type": "execute_result"
    }
   ],
   "source": [
    "x_bar = np.mean(df.PHYSHLTH)\n",
    "n = len(df.PHYSHLTH)\n",
    "s = np.std(df.PHYSHLTH, ddof=1)\n",
    "se = s / math.sqrt(n)\n",
    "\n",
    "print(x_bar, s, n)\n",
    "print()\n",
    "print(\"The Sample Mean:\")\n",
    "print(x_bar)\n",
    "print(\"The Sample Standard Deviation:\")\n",
    "print(s)\n",
    "\n",
    "stats.t.interval(alpha = 0.95,                # Confidence Level\n",
    "                 df = n-1,                    # Degrees of Freedom\n",
    "                 loc = x_bar,                 # Sample mean\n",
    "                 scale = se)                  # Standard error"
   ]
  },
  {
   "cell_type": "markdown",
   "metadata": {},
   "source": [
    "**Confidence Interval Interpretation**\n",
    "\n",
    "Based on the data collected between the years 2020-2021 and considering a 95% confidence interval; New Yorkers experienced 2.9 - 3.2 days of poor physical health in the 30 days prior to taking part of the survey."
   ]
  },
  {
   "cell_type": "markdown",
   "metadata": {},
   "source": [
    "## Differences in `PHYSHLTH` Based on `RENTHOM1`\n",
    "\n",
    "### How Does `PHYSHLTH` Differ Based on `RENTHOM1`?\n",
    "\n",
    "By splitting the data by `RENTHOM1` (which tells us whether or not those surveyed own or rent their homes) we can determine whether or not home ownership (and the variables that determine this category) have any statistical significance towards the physical health of those surveyed."
   ]
  },
  {
   "cell_type": "code",
   "execution_count": 6,
   "metadata": {},
   "outputs": [],
   "source": [
    "# TODO: write code to separate the records based on the value of RENTHOM1\n",
    "\n",
    "# DataFrame of individuals who took the survey and own their home\n",
    "df_own = df.drop(df[df.RENTHOM1 == 2].index)\n",
    "\n",
    "# DataFrame of individuals who took the survey and rent their home\n",
    "df_rent = df.drop(df[df.RENTHOM1 == 1].index)"
   ]
  },
  {
   "cell_type": "code",
   "execution_count": 7,
   "metadata": {},
   "outputs": [
    {
     "name": "stdout",
     "output_type": "stream",
     "text": [
      "2.675854726132734\n",
      "3.6959277756434883\n"
     ]
    }
   ],
   "source": [
    "# Create a variables for comparing the means later\n",
    "own_mean = df_own.PHYSHLTH.mean()\n",
    "rent_mean = df_rent.PHYSHLTH.mean()\n",
    "\n",
    "# Compare the Means\n",
    "print(own_mean)\n",
    "print(rent_mean)"
   ]
  },
  {
   "cell_type": "code",
   "execution_count": 8,
   "metadata": {
    "scrolled": true
   },
   "outputs": [
    {
     "data": {
      "image/png": "[encoded data removed]",
      "text/plain": [
       "<Figure size 1080x720 with 1 Axes>"
      ]
     },
     "metadata": {},
     "output_type": "display_data"
    }
   ],
   "source": [
    "# TODO: write code to produce one or more plots that show the value of\n",
    "# PHYSHLTH based on the value of RENTHOM1\n",
    "sns.set(font_scale=1.3)\n",
    "plt.figure(figsize=(15,10))\n",
    "p = sns.histplot(data=df, \n",
    "                 x=\"PHYSHLTH\", \n",
    "                 bins=30, \n",
    "                 hue=\"RENTHOM1\", \n",
    "                 kde=True, \n",
    "                 palette=['tab:red','tab:blue'])\n",
    "p.set_xlabel('Days of Poor Physical Health', \n",
    "             fontsize=20)\n",
    "p.set_ylabel('Surveyed Results', \n",
    "             fontsize=20)\n",
    "p.set_title(\"Physical Health: Renters vs Homeowners\", \n",
    "            fontsize=20)\n",
    "p.legend(labels=['Renters','Owners'], \n",
    "         fontsize = 20);"
   ]
  },
  {
   "cell_type": "markdown",
   "metadata": {},
   "source": [
    "The plot above shows us:\n",
    "**Based on the available data:**\n",
    "- For both Home owners and renters there is a peak at 0 days of poor physical health and a slight peak at 30 days.\n",
    "- Home owners are generally twice as likely to not suffer from poor physical health than renters.\n",
    "- When home owners are suffering from poor physical health they tend to do so more frequently than home renters.\n",
    "- Home renters seem to report suffering 20-25 poor physical health days more so than their home owner counterparts.\n",
    "- There is a spike of 30 reported poor physical health days for both home owners and renters, although home owners report more frequently by a small margin."
   ]
  },
  {
   "cell_type": "markdown",
   "metadata": {},
   "source": [
    "### Is the Difference Statistically Significant?\n",
    "\n",
    "**Consideration:**\n",
    "- alpha = 0.05\n",
    "\n",
    "**Hypothesis:**\n",
    "- H0 = Homeownership doesn't influence improved physical health of New Yorkers.\n",
    "- H1 = Homeownership influences improved physical health of New Yorkers.\n",
    "\n",
    "**Test Performed:**\n",
    "- Due to the means being only roughly 1 day apart, I'll be performing a one-tailed Welch's t-test."
   ]
  },
  {
   "cell_type": "code",
   "execution_count": 14,
   "metadata": {},
   "outputs": [
    {
     "name": "stdout",
     "output_type": "stream",
     "text": [
      "7.388322797834585 9789.779480096699\n",
      "8.049116928532385e-14\n"
     ]
    }
   ],
   "source": [
    "# TODO: write code to calculate the test statistic and p-value for a t-test\n",
    "\n",
    "#Function to calculate the t-stats for two samples\n",
    "def welch_t(a, b):\n",
    "    numerator = a.mean() - b.mean()\n",
    "    denominator = np.sqrt(a.var(ddof=1)/a.size + b.var(ddof=1)/b.size)\n",
    "    return np.abs(numerator/denominator)\n",
    "\n",
    "# Function to calculate the degrees of freedom for two samples\n",
    "def welch_def(a,b):\n",
    "    s1 = a.var(ddof=1)\n",
    "    s2 = b.var(ddof=1)\n",
    "    n1 = a.size\n",
    "    n2 = b.size\n",
    "    \n",
    "    numerator = (s1/n1 + s2/n2)**2\n",
    "    denominator = (s1/n1)**2/(n1 -1) + (s2/n2)**2/(n2 - 1)\n",
    "        \n",
    "    return numerator / denominator\n",
    "\n",
    "# Perform Tests\n",
    "t_tests = welch_t(df_own.PHYSHLTH, df_rent.PHYSHLTH)\n",
    "deg_f = welch_def(df_own.PHYSHLTH, df_rent.PHYSHLTH)\n",
    "print(t_tests, deg_f)\n",
    "\n",
    "# Determine p-value\n",
    "p_val = 1 - stats.t.cdf(t_tests, deg_f)\n",
    "print(p_val)"
   ]
  },
  {
   "cell_type": "markdown",
   "metadata": {},
   "source": [
    "Due to the p-value being lower than 0.05 we can reject the null hypothesis. \n",
    "\n",
    "Therefore, **based on the data collected we can assume that homeownership has an influence on the physical health of New Yorkers.**"
   ]
  },
  {
   "cell_type": "markdown",
   "metadata": {},
   "source": [
    "## Next Steps\n",
    "Considering the resources available on the CDC codebook, I would propose investigating is:\n",
    "- **IMONTH**: I believe that the month of the interview can have a significant effect on the results of the survey since, even before the years of 2020-2021, one could see spikes in poor physical health in certain months of year due to flu-season and changing seasons.\n",
    "- Either way, it would be interesting to see if months where outbreaks in COVID would spike would have a significant effect on the results."
   ]
  }
 ],
 "metadata": {
  "kernelspec": {
   "display_name": "Python 3",
   "language": "python",
   "name": "python3"
  },
  "language_info": {
   "codemirror_mode": {
    "name": "ipython",
    "version": 3
   },
   "file_extension": ".py",
   "mimetype": "text/x-python",
   "name": "python",
   "nbconvert_exporter": "python",
   "pygments_lexer": "ipython3",
   "version": "3.9.5"
  }
 },
 "nbformat": 4,
 "nbformat_minor": 4
}
